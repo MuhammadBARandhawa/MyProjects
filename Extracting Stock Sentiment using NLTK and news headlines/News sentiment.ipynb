{
 "cells": [
  {
   "cell_type": "markdown",
   "id": "b96e3122",
   "metadata": {},
   "source": [
    "### Why this?\n",
    "\n",
    "In this notebook, we will generate insight by applying sentiment analysis on financial news headlines from FINVIZ.com. Using this natural language processing technique, we can understand the emotion behind the headlines and predict whether the market feels good or bad about a stock.\n",
    "\n",
    "I will be using FINVIZ because it has a list of trusted websites, and headlines from those sites, and these headlines are more likely to be consistent in terms of their descriptors as compared to independent writers. This helps the sentiment analysis be more accurate. \n",
    "\n",
    "Additionally as web scraping would require sending quite large amounts of traffic to FINVIZ's servers, the HTML files for certain stocks have been imported for various points in time."
   ]
  },
  {
   "cell_type": "markdown",
   "id": "6a1de6e0",
   "metadata": {},
   "source": [
    "### Exploring the files ###\n",
    "Importing the modules and then starting by importing the HTML file into this notebook and exploring some of the headlines"
   ]
  },
  {
   "cell_type": "code",
   "execution_count": 12,
   "id": "869da242",
   "metadata": {},
   "outputs": [],
   "source": [
    "# Import libraries\n",
    "from bs4 import BeautifulSoup\n",
    "import pandas as pd\n",
    "import os\n",
    "\n",
    "html_tables = {}\n",
    "\n",
    "for table_name in os.listdir('datasets'):\n",
    "    table_path = f'datasets/{table_name}'\n",
    "    table_file = open(table_path, 'r')\n",
    "    html = BeautifulSoup(table_file)\n",
    "    html_table = html.find(id=\"news-table\")\n",
    "    html_tables[table_name] = html_table"
   ]
  },
  {
   "cell_type": "code",
   "execution_count": 13,
   "id": "17a4fda4",
   "metadata": {},
   "outputs": [
    {
     "name": "stdout",
     "output_type": "stream",
     "text": [
      "0:\n",
      "Billionaire investor questions Elon Musk getting 'a pass' after bombshell tweets\n",
      "Sep-21-18 09:56PM  \n",
      "1:\n",
      "Broadcoms Stock Looks Like a Winner\n",
      "09:30PM  \n",
      "2:\n",
      "SHAREHOLDER ALERT:Â  Pomerantz Law Firm Reminds Shareholders with Losses on their Investment in Tesla, Inc. of Class Action Lawsuit and Upcoming Deadline  TSLA\n",
      "05:30PM  \n",
      "3:\n",
      "Tesla's People Problem and the Inscrutable Musk: 2 Things That Make You Go Hmmm\n",
      "05:30PM  \n"
     ]
    }
   ],
   "source": [
    "# Read one single day of headlines \n",
    "tsla = html_tables['tsla_22sep.html']\n",
    "tsla_tr = tsla.findAll('tr')\n",
    "\n",
    "for i, table_row in enumerate(tsla_tr):\n",
    "    link_text = table_row.a.get_text()\n",
    "    data_text = table_row.td.get_text()\n",
    "    print(f'{i}:')\n",
    "    print(link_text)\n",
    "    print(data_text)\n",
    "    if i == 3:\n",
    "        break"
   ]
  },
  {
   "cell_type": "markdown",
   "id": "d5b91512",
   "metadata": {},
   "source": [
    "### Extracting the actual headlines ###\n",
    "Going to parse the data for all tables in a comfortable data structure."
   ]
  },
  {
   "cell_type": "code",
   "execution_count": 14,
   "id": "2e37e8bc",
   "metadata": {},
   "outputs": [],
   "source": [
    "\n",
    "parsed_news = []\n",
    "for file_name, news_table in html_tables.items():\n",
    "    for x in news_table.findAll('tr'):\n",
    "        text = x.get_text() \n",
    "        headline = x.a.get_text()\n",
    "        date_scrape = x.td.text.split()\n",
    "        if  len(date_scrape) == 1:\n",
    "            time = date_scrape[0]\n",
    "        else:\n",
    "            date = date_scrape[0]\n",
    "            time = date_scrape[1]\n",
    "\n",
    "        ticker = file_name.split('_')[0]\n",
    "        parsed_news.append([ticker, date, time, headline])"
   ]
  },
  {
   "cell_type": "markdown",
   "id": "ee7a2989",
   "metadata": {},
   "source": [
    "### Using the Natural Language Toolkit think like a financial analyst ###\n",
    "Sentiment analysis need to be fine tuned to the context as certain phrases can be missinterpreted. To do make NLTK interpret items like a financial analyst we have to add new words and corresponding values."
   ]
  },
  {
   "cell_type": "code",
   "execution_count": 15,
   "id": "0299c9a0",
   "metadata": {},
   "outputs": [],
   "source": [
    "from nltk.sentiment.vader import SentimentIntensityAnalyzer\n",
    "\n",
    "new_words = {\n",
    "    'crushes': 10,\n",
    "    'beats': 5,\n",
    "    'misses': -5,\n",
    "    'trouble': -10,\n",
    "    'falls': -100,\n",
    "}\n",
    "vader = SentimentIntensityAnalyzer()\n",
    "vader.lexicon.update(new_words)"
   ]
  },
  {
   "cell_type": "markdown",
   "id": "794ef405",
   "metadata": {},
   "source": [
    "### Progammatically predicting the prevailing snetiment out of news headlines ###"
   ]
  },
  {
   "cell_type": "code",
   "execution_count": 16,
   "id": "5444d678",
   "metadata": {},
   "outputs": [],
   "source": [
    "\n",
    "columns = ['ticker', 'date', 'time', 'headline']\n",
    "scored_news = pd.DataFrame(parsed_news, columns=columns)\n",
    "scores = [vader.polarity_scores(headline) for headline in scored_news.headline.values]\n",
    "scores_df = pd.DataFrame(scores)\n",
    "scored_news = pd.concat([scored_news, scores_df], axis=1)\n",
    "scored_news['date'] = pd.to_datetime(scored_news.date).dt.date"
   ]
  },
  {
   "cell_type": "markdown",
   "id": "8d13fb7c",
   "metadata": {},
   "source": [
    "### Plot all the sentiment ###\n",
    "Now that scores have been generated for the news, we will plot these on a time series for the stocks."
   ]
  },
  {
   "cell_type": "code",
   "execution_count": 17,
   "id": "26c3aafb",
   "metadata": {},
   "outputs": [
    {
     "data": {
      "text/plain": [
       "<AxesSubplot:xlabel='date'>"
      ]
     },
     "execution_count": 17,
     "metadata": {},
     "output_type": "execute_result"
    },
    {
     "data": {
      "image/png": "[encoded data removed]",
      "text/plain": [
       "<Figure size 432x288 with 1 Axes>"
      ]
     },
     "metadata": {
      "needs_background": "light"
     },
     "output_type": "display_data"
    }
   ],
   "source": [
    "import matplotlib.pyplot as plt\n",
    "plt.style.use(\"fivethirtyeight\")\n",
    "%matplotlib inline\n",
    "\n",
    "mean_c = scored_news.groupby(['date', 'ticker']).mean()\n",
    "mean_c = mean_c.unstack(level=1)\n",
    "mean_c = mean_c.xs('compound', axis=1)\n",
    "mean_c.plot.bar()"
   ]
  },
  {
   "cell_type": "markdown",
   "id": "0c9def09",
   "metadata": {},
   "source": [
    "### Duplicates ###\n",
    "We can see that we have an outlier as the sentiment generated for TSLA was quite extreme on the 22nd of November. Taking a peak into the headlines on the day, we can see that there were only 5 headlines on that day and two headlines are esentially the same as another but from a different news source."
   ]
  },
  {
   "cell_type": "code",
   "execution_count": 20,
   "id": "47c8c291",
   "metadata": {},
   "outputs": [
    {
     "data": {
      "text/plain": [
       "'Before we had 500 headlines, now we have 476'"
      ]
     },
     "execution_count": 20,
     "metadata": {},
     "output_type": "execute_result"
    }
   ],
   "source": [
    "\n",
    "num_news_before = scored_news['headline'].count()\n",
    "scored_news_clean = scored_news.drop_duplicates(subset=['ticker', 'headline'])\n",
    "num_news_after = scored_news_clean['headline'].count()\n",
    "f\"Before we had {num_news_before} headlines, now we have {num_news_after}\""
   ]
  },
  {
   "cell_type": "markdown",
   "id": "573e24cc",
   "metadata": {},
   "source": [
    "### Finding sentiment for a single stock on a single day ###\n",
    "To get a better understanding of the data and the dataset, producing a informative plot and very basic plot showing headline and subscores is needed."
   ]
  },
  {
   "cell_type": "code",
   "execution_count": null,
   "id": "27a675d0",
   "metadata": {},
   "outputs": [],
   "source": [
    "\n",
    "single_day = scored_news_clean.set_index(['ticker', 'date'])\n",
    "single_day = single_day.loc['fb']\n",
    "single_day = single_day.loc['2019-01-03']\n",
    "single_day['time'] = pd.to_datetime(single_day['time'])\n",
    "single_day['time'] = single_day.time.dt.time \n",
    "single_day = single_day.set_index('time')\n",
    "single_day = single_day.sort_index(ascending=True)"
   ]
  },
  {
   "cell_type": "markdown",
   "id": "0e5d3523",
   "metadata": {},
   "source": [
    "### Visualising the single day ###\n",
    "Making a plot to visualize the positive, negative and neutral scores for a single stock on a single trading day. "
   ]
  },
  {
   "cell_type": "code",
   "execution_count": null,
   "id": "5d583ff6",
   "metadata": {},
   "outputs": [],
   "source": [
    "TITLE = \"Negative, neutral, and positive sentiment for FB on 2019-01-03\"\n",
    "COLORS = [\"red\",\"orange\", \"green\"]\n",
    "plot_day = single_day.drop(['compound', 'headline'], 1)\n",
    "plot_day.columns = ['negative', 'neutral', 'positive']\n",
    "plot_day.plot.bar(stacked = True, figsize=(10, 6), title = TITLE, color = COLORS).legend(bbox_to_anchor=(1.2, 0.5))\n",
    "plt.ylabel(\"scores\");"
   ]
  }
 ],
 "metadata": {
  "kernelspec": {
   "display_name": "Python 3 (ipykernel)",
   "language": "python",
   "name": "python3"
  },
  "language_info": {
   "codemirror_mode": {
    "name": "ipython",
    "version": 3
   },
   "file_extension": ".py",
   "mimetype": "text/x-python",
   "name": "python",
   "nbconvert_exporter": "python",
   "pygments_lexer": "ipython3",
   "version": "3.9.12"
  }
 },
 "nbformat": 4,
 "nbformat_minor": 5
}
